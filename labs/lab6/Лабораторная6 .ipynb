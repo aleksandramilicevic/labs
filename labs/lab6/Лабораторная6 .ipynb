{
 "cells": [
  {
   "cell_type": "code",
   "execution_count": 1,
   "id": "d17be990-1b19-4914-914b-b4259094e31b",
   "metadata": {},
   "outputs": [
    {
     "name": "stdout",
     "output_type": "stream",
     "text": [
      "1181\n"
     ]
    }
   ],
   "source": [
    "from math import gcd\n",
    "\n",
    "# Инициализация глобальной переменной для отслеживания прогресса алгоритма\n",
    "last_b_value = 1\n",
    "\n",
    "# Функция для вычисления следующего значения последовательности по формуле (x^2 + 5) % n\n",
    "def next_value(x, n):\n",
    "    return (x * x + 5) % n\n",
    "\n",
    "# Рекурсивная функция, реализующая алгоритм Полларда для нахождения нетривиального делителя числа n\n",
    "def pollard_rho_recursive(n, a, b, divisor):\n",
    "    # Обновление значений a и b в последовательности\n",
    "    a = next_value(a, n) % n\n",
    "    b = next_value(next_value(b, n), n) % n\n",
    "    \n",
    "    # Вычисление НОД разности между a и b\n",
    "    divisor = gcd(a - b, n)\n",
    "\n",
    "    # Если найден нетривиальный делитель, выводим его и завершаем работу\n",
    "    if 1 < divisor < n:\n",
    "        print(divisor)\n",
    "        exit()\n",
    "\n",
    "    # Если делитель не найден и divisor равен n, выводим сообщение\n",
    "    if divisor == n:\n",
    "        print(\"Делитель не найден\")\n",
    "\n",
    "    # Если НОД равен 1, продолжаем рекурсивный процесс\n",
    "    if divisor == 1:\n",
    "        global last_b_value\n",
    "        last_b_value = b\n",
    "        pollard_rho_recursive(n, a, b, divisor)\n",
    "\n",
    "# Число, которое нужно разложить на множители\n",
    "n = 1359331\n",
    "\n",
    "# Начальное значение для последовательности\n",
    "initial_value = 1\n",
    "\n",
    "# Инициализация переменных последовательности\n",
    "a = initial_value\n",
    "b = initial_value\n",
    "\n",
    "# Начинаем последовательность с вычисления следующих значений\n",
    "a = next_value(a, n) % n\n",
    "b = next_value(a, n) % n\n",
    "\n",
    "# Вычисляем начальный НОД\n",
    "divisor = gcd(a - b, n)\n",
    "\n",
    "# Если найден нетривиальный делитель, выводим его и завершаем работу\n",
    "if 1 < divisor < n:\n",
    "    print(divisor)\n",
    "    exit()\n",
    "\n",
    "# Если делитель не найден на первом шаге и divisor равен n, выводим сообщение\n",
    "if divisor == n:\n",
    "    print(\"Делитель не найден\")\n",
    "\n",
    "# Если НОД равен 1, начинаем рекурсивный процесс\n",
    "if divisor == 1:\n",
    "    pollard_rho_recursive(n, a, b, divisor)"
   ]
  },
  {
   "cell_type": "code",
   "execution_count": null,
   "id": "caef89bc-b19d-484f-9880-c0d5f3e2c89d",
   "metadata": {},
   "outputs": [],
   "source": []
  }
 ],
 "metadata": {
  "kernelspec": {
   "display_name": "Python 3 (ipykernel)",
   "language": "python",
   "name": "python3"
  },
  "language_info": {
   "codemirror_mode": {
    "name": "ipython",
    "version": 3
   },
   "file_extension": ".py",
   "mimetype": "text/x-python",
   "name": "python",
   "nbconvert_exporter": "python",
   "pygments_lexer": "ipython3",
   "version": "3.12.2"
  }
 },
 "nbformat": 4,
 "nbformat_minor": 5
}
