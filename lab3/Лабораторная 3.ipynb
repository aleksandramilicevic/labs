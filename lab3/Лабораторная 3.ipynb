{
 "cells": [
  {
   "cell_type": "markdown",
   "id": "7edf190e-22fd-4aa1-a244-e829d97d2cfd",
   "metadata": {},
   "source": [
    "#### Шифрование гаммированием"
   ]
  },
  {
   "cell_type": "code",
   "execution_count": 3,
   "id": "3789081a-b13e-42ff-970e-4e79b824301f",
   "metadata": {},
   "outputs": [
    {
     "name": "stdout",
     "output_type": "stream",
     "text": [
      "Исходный текст: ПРИВЕТ\n",
      "Гамма: FIIIVR\n",
      "Зашифрованный текст: ПРИВЕТ\n"
     ]
    }
   ],
   "source": [
    "import random\n",
    "\n",
    "def gamming_cipher_encrypt(text, gamma):\n",
    "    \"\"\"\n",
    "    Шифрует текст с использованием метода шифрования гаммированием (одноразовый блокнот).\n",
    "    Args:\n",
    "        text (str): Текст для шифрования.\n",
    "        gamma (str): Случайная гамма (ключ).\n",
    "    Returns:\n",
    "        str: Зашифрованный текст.\n",
    "    \"\"\"\n",
    "    text = text.upper() # Приводим текст к верхнему регистру\n",
    "    gamma = gamma.upper() # Приводим гамму к верхнему регистру\n",
    "    cipher_text = \"\" # Создаем пустую строку для зашифрованного текста\n",
    "    for text_char, gamma_char in zip(text, gamma): # Итерируемся по символам текста и гаммы\n",
    "        if 'A' <= text_char <= 'Z' and 'A' <= gamma_char <= 'Z': # Проверяем, являются ли оба символа буквами латинского алфавита\n",
    "            text_char_code = ord(text_char) - ord('A') # Получаем числовой код символа текста\n",
    "            gamma_char_code = ord(gamma_char) - ord('A') # Получаем числовой код символа гаммы\n",
    "            encrypted_char_code = (text_char_code + gamma_char_code) % 26 # Складываем коды и берём остаток от деления на 26 (алфавит)\n",
    "            encrypted_char = chr(encrypted_char_code + ord('A')) # Преобразуем число обратно в символ\n",
    "            cipher_text += encrypted_char # Добавляем зашифрованный символ к результирующей строке\n",
    "        else:\n",
    "            cipher_text += text_char # Если символ не буква, то добавляем его без изменений\n",
    "    return cipher_text # Возвращаем зашифрованный текст\n",
    "\n",
    "\n",
    "def generate_gamma(length):\n",
    "  \"\"\"\n",
    "    Генерирует случайную строку букв для гаммы.\n",
    "    Args:\n",
    "        length (int): Длина гаммы\n",
    "    Returns:\n",
    "        str: Случайная гамма.\n",
    "    \"\"\"\n",
    "  return \"\".join(random.choice(\"ABCDEFGHIJKLMNOPQRSTUVWXYZ\") for _ in range(length)) # Генерирует случайную строку из букв\n",
    "\n",
    "\n",
    "# Пример использования:\n",
    "text = \"ПРИВЕТ\" # Исходный текст\n",
    "gamma = generate_gamma(len(text)) # Генерируем гамму той же длины, что и текст\n",
    "encrypted_text = gamming_cipher_encrypt(text, gamma) # Шифруем текст\n",
    "\n",
    "print(f\"Исходный текст: {text}\") # Выводим исходный текст\n",
    "print(f\"Гамма: {gamma}\") # Выводим гамму\n",
    "print(f\"Зашифрованный текст: {encrypted_text}\") # Выводим зашифрованный текст"
   ]
  },
  {
   "cell_type": "code",
   "execution_count": null,
   "id": "5ac0f9d1-f513-4321-9f2b-9f232e85bf5f",
   "metadata": {},
   "outputs": [],
   "source": []
  }
 ],
 "metadata": {
  "kernelspec": {
   "display_name": "Python 3 (ipykernel)",
   "language": "python",
   "name": "python3"
  },
  "language_info": {
   "codemirror_mode": {
    "name": "ipython",
    "version": 3
   },
   "file_extension": ".py",
   "mimetype": "text/x-python",
   "name": "python",
   "nbconvert_exporter": "python",
   "pygments_lexer": "ipython3",
   "version": "3.12.2"
  }
 },
 "nbformat": 4,
 "nbformat_minor": 5
}
