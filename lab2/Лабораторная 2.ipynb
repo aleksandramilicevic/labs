{
 "cells": [
  {
   "cell_type": "markdown",
   "id": "9093baba-6dac-41e9-bd8c-6fce50f66a22",
   "metadata": {},
   "source": [
    "#### Маршрутное шифроваие"
   ]
  },
  {
   "cell_type": "code",
   "execution_count": 6,
   "id": "bd97523a-a4be-4459-898e-4313621b8604",
   "metadata": {},
   "outputs": [
    {
     "name": "stdout",
     "output_type": "stream",
     "text": [
      "Original text: this is a secret message\n",
      "Encrypted text: tssprpshppsemaiiaetegssscsse\n"
     ]
    }
   ],
   "source": [
    "def route_cipher_encrypt(text, key):\n",
    "    \"\"\"\n",
    "    Шифрует текст с помощью маршрутного шифрования.\n",
    "\n",
    "    Args:\n",
    "        text (str): Текст для шифрования.\n",
    "        key (int): Количество столбцов в маршрутной матрице.\n",
    "\n",
    "    Returns:\n",
    "        str: Зашифрованный текст.\n",
    "    \"\"\"\n",
    "\n",
    "    # 1. Подготовка\n",
    "    text = text.replace(\" \", \"sp\")  # Удаляем пробелы из текста\n",
    "    text_length = len(text)\n",
    "    num_columns = key  # Количество столбцов задается ключом\n",
    "    num_rows = (text_length + num_columns - 1) // num_columns  #  Вычисляем необходимое количество строк\n",
    "\n",
    "    # 2. Заполнение матрицы\n",
    "    matrix = [['' for _ in range(num_columns)] for _ in range(num_rows)]  # создем пустую матрицу\n",
    "    index = 0\n",
    "    for row in range(num_rows):\n",
    "        for column in range(num_columns):\n",
    "            if index < text_length: # Записываем символы текста в матрицу\n",
    "                matrix[row][column] = text[index]\n",
    "                index += 1\n",
    "\n",
    "    # 3. Чтение матрицы по столбцам\n",
    "    cipher_text = \"\"\n",
    "    for column in range(num_columns): # читаем матрицу по столбцам и формируем шифрованный текст\n",
    "        for row in range(num_rows):\n",
    "            cipher_text += matrix[row][column]\n",
    "\n",
    "    return cipher_text\n",
    "\n",
    "\n",
    "# пример текста\n",
    "text = \"this is a secret message\"\n",
    "key = 4\n",
    "\n",
    "encrypted_text = route_cipher_encrypt(text, key)\n",
    "\n",
    "\n",
    "print(f\"Original text: {text}\")\n",
    "print(f\"Encrypted text: {encrypted_text}\")"
   ]
  },
  {
   "cell_type": "markdown",
   "id": "66bb7d05-5005-4f57-86b2-63a761a43ae5",
   "metadata": {},
   "source": [
    "#### Шифрование с помощью решеток"
   ]
  },
  {
   "cell_type": "code",
   "execution_count": 13,
   "id": "3668a05e-ed02-4fc5-bee8-8ff26be84ec4",
   "metadata": {},
   "outputs": [
    {
     "name": "stdout",
     "output_type": "stream",
     "text": [
      "Исходный текст: криптография\n",
      "Зашифрованный текст: ткафоригияпр\n"
     ]
    }
   ],
   "source": [
    "def grille_cipher_encrypt(text, grille):\n",
    "    \"\"\"\n",
    "    Шифрует текст с использованием метода шифрования решеткой.\n",
    "\n",
    "    Args:\n",
    "        text (str): Текст для шифрования.\n",
    "        grille (list of tuples): Решетка, определяющая позиции, куда будут помещены символы.\n",
    "\n",
    "    Returns:\n",
    "        str: Зашифрованный текст.\n",
    "    \"\"\"\n",
    "\n",
    "    # 1. Подготовка:\n",
    "    text = text.replace(\" \", \"s\")  # Удаляем пробелы из текста\n",
    "    text_length = len(text) # Определяем длину текста\n",
    "    grille_size = len(grille) # Определяем размер решетки (сторона квадрата)\n",
    "\n",
    "    if text_length > grille_size * grille_size:\n",
    "        raise ValueError(\"Текст длиннее, чем вместимость решетки.\")\n",
    "\n",
    "    # 2. Создаем пустую матрицу (квадрат)\n",
    "    matrix_size = grille_size\n",
    "    matrix = [['' for _ in range(matrix_size)] for _ in range(matrix_size)]\n",
    "\n",
    "    # 3. Заполняем матрицу в соответствии с решеткой и текстом\n",
    "    index = 0  \n",
    "    for row, column in grille:\n",
    "        if index < text_length:\n",
    "            matrix[row][column] = text[index]\n",
    "            index += 1\n",
    "\n",
    "    # 4. Читаем матрицу построчно\n",
    "    cipher_text = \"\"\n",
    "    for row in range(matrix_size):\n",
    "        for column in range(matrix_size):\n",
    "            cipher_text += matrix[row][column]\n",
    "\n",
    "    return cipher_text\n",
    "\n",
    "# Пример использования:\n",
    "text = \"криптография\"\n",
    "# Определяем решетку как список кортежей (строка, столбец)\n",
    "grille = [(0, 1), (1, 3), (2, 0), (3, 2), (0,0), (1,2), (2,1), (3,3), (0,2), (1,0), (2,3), (3,1), (0,3),(1,1),(2,2),(3,0)]\n",
    "\n",
    "encrypted_text = grille_cipher_encrypt(text, grille)\n",
    "\n",
    "print(f\"Исходный текст: {text}\")\n",
    "print(f\"Зашифрованный текст: {encrypted_text}\")"
   ]
  },
  {
   "cell_type": "markdown",
   "id": "26aa1867-c028-4f76-a53f-3b3f488d5ac8",
   "metadata": {},
   "source": [
    "#### Шифрование Виженера"
   ]
  },
  {
   "cell_type": "code",
   "execution_count": 14,
   "id": "dded9b6d-cd72-4ec7-9f3e-b76fcecdb854",
   "metadata": {},
   "outputs": [
    {
     "name": "stdout",
     "output_type": "stream",
     "text": [
      "Исходный текст: HELLO\n",
      "Зашифрованный текст: RIJVS\n"
     ]
    }
   ],
   "source": [
    "def vigenere_cipher_encrypt(text, key):\n",
    "    text = text.upper()\n",
    "    key = key.upper()\n",
    "    key_length = len(key)\n",
    "    cipher_text = \"\"\n",
    "    for i, char in enumerate(text):\n",
    "         if 'A' <= char <= 'Z':\n",
    "            text_char_code = ord(char) - ord('A')\n",
    "            key_char_code = ord(key[i % key_length]) - ord('A')\n",
    "            encrypted_char_code = (text_char_code + key_char_code) % 26\n",
    "            encrypted_char = chr(encrypted_char_code + ord('A'))\n",
    "            cipher_text += encrypted_char\n",
    "         else:\n",
    "              cipher_text += char\n",
    "    return cipher_text\n",
    "\n",
    "# Пример использования:\n",
    "text = \"HELLO\"\n",
    "key = \"KEY\"\n",
    "encrypted_text = vigenere_cipher_encrypt(text, key)\n",
    "\n",
    "print(f\"Исходный текст: {text}\")\n",
    "print(f\"Зашифрованный текст: {encrypted_text}\")"
   ]
  },
  {
   "cell_type": "markdown",
   "id": "5e48360b-0392-4449-b571-afdb3c28aef3",
   "metadata": {},
   "source": [
    "Для русского языка "
   ]
  },
  {
   "cell_type": "code",
   "execution_count": 15,
   "id": "42481132-c1d4-4940-9ca7-d8b4c47750d2",
   "metadata": {},
   "outputs": [
    {
     "name": "stdout",
     "output_type": "stream",
     "text": [
      "Исходный текст: ПРИВЕТМИР\n",
      "Зашифрованный текст: ЪЬЖЩПЮКАЫ\n"
     ]
    }
   ],
   "source": [
    "def vigenere_cipher_encrypt_ru(text, key):\n",
    "    \"\"\"\n",
    "    Шифрует текст на русском языке, используя шифр Виженера.\n",
    "\n",
    "    Args:\n",
    "        text (str): Текст для шифрования на русском.\n",
    "        key (str): Ключ шифрования на русском.\n",
    "\n",
    "    Returns:\n",
    "        str: Зашифрованный текст на русском.\n",
    "    \"\"\"\n",
    "    text = text.upper() # Приводим текст к верхнему регистру\n",
    "    key = key.upper() # Приводим ключ к верхнему регистру\n",
    "    key_length = len(key) # Запоминаем длину ключа\n",
    "    cipher_text = \"\" # Создаём пустую строку для зашифрованного текста\n",
    "    \n",
    "    alphabet_ru = \"АБВГДЕЁЖЗИЙКЛМНОПРСТУФХЦЧШЩЪЫЬЭЮЯ\" # Русский алфавит\n",
    "    alphabet_length = len(alphabet_ru) # Запоминаем длину алфавита\n",
    "\n",
    "    for i, char in enumerate(text):\n",
    "        if char in alphabet_ru: # Проверяем, является ли символ русской буквой\n",
    "            text_char_code = alphabet_ru.find(char) # Получаем индекс буквы в русском алфавите\n",
    "            key_char_code = alphabet_ru.find(key[i % key_length]) # Получаем индекс буквы ключа\n",
    "            encrypted_char_code = (text_char_code + key_char_code) % alphabet_length # Шифрование\n",
    "            encrypted_char = alphabet_ru[encrypted_char_code] # Получаем зашифрованную букву\n",
    "            cipher_text += encrypted_char # Добавляем зашифрованную букву в результирующую строку\n",
    "        else: # Если символ не является буквой русского алфавита\n",
    "              cipher_text += char # Добавляем его в результирующую строку без изменений\n",
    "\n",
    "    return cipher_text\n",
    "\n",
    "# Пример использования:\n",
    "text = \"ПРИВЕТМИР\"\n",
    "key = \"КЛЮЧ\"\n",
    "encrypted_text = vigenere_cipher_encrypt_ru(text, key)\n",
    "\n",
    "print(f\"Исходный текст: {text}\")\n",
    "print(f\"Зашифрованный текст: {encrypted_text}\")"
   ]
  },
  {
   "cell_type": "code",
   "execution_count": null,
   "id": "d4e58090-4a50-44b6-ac8a-e9150b515e93",
   "metadata": {},
   "outputs": [],
   "source": [
    " "
   ]
  }
 ],
 "metadata": {
  "kernelspec": {
   "display_name": "Python 3 (ipykernel)",
   "language": "python",
   "name": "python3"
  },
  "language_info": {
   "codemirror_mode": {
    "name": "ipython",
    "version": 3
   },
   "file_extension": ".py",
   "mimetype": "text/x-python",
   "name": "python",
   "nbconvert_exporter": "python",
   "pygments_lexer": "ipython3",
   "version": "3.12.2"
  }
 },
 "nbformat": 4,
 "nbformat_minor": 5
}
